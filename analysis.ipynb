{
 "cells": [
  {
   "cell_type": "code",
   "execution_count": null,
   "id": "0",
   "metadata": {},
   "outputs": [],
   "source": [
    "import numpy as np \n",
    "from pathlib import Path\n",
    "#the line below accesses the file path of the images. Since the main.py file and the archive folder is under the malaria folder, \n",
    "#i dont have to write malaria as a part of the file pat\n",
    "path = Path(\"archive/cell_images\") \n",
    "#path.glob gets all the files and folders matching the identifier specified in the argument. it works for with file names,\n",
    "#and extensions. '*/*.png' includes all subfolders and to not include subfolders its '*.png'\n",
    "data = list(path.glob('*/*.png'))\n",
    "uninfected = list(path.glob(\"Uninfected/*\"))\n",
    "print(len(uninfected))\n",
    "print(len(data))\n",
    "print(path.exists())"
   ]
  },
  {
   "cell_type": "code",
   "execution_count": null,
   "id": "1",
   "metadata": {},
   "outputs": [],
   "source": [
    "#just wanted to open the images\n",
    "from PIL import Image\n",
    "import PIL\n",
    "PIL.Image.open(uninfected[1])"
   ]
  },
  {
   "cell_type": "code",
   "execution_count": null,
   "id": "2",
   "metadata": {},
   "outputs": [],
   "source": [
    "#resizing images to standardize the data because it leads to more consistentcy from the model\n",
    "import torch\n",
    "from torchvision import datasets, transforms\n",
    "from torch.utils.data import DataLoader, random_split\n",
    "#defines transformer and resizes images \n",
    "transform = transforms.Compose([\n",
    "    transforms.Resize((128, 128)),\n",
    "    transforms.ToTensor(),\n",
    "])\n",
    "#loads dataset\n",
    "dataset = datasets.ImageFolder(root='archive/cell_images', transform=transform)\n",
    "\n",
    "#split the data into training, validating, and test. validating is used so we can see how the model looks while its training on it itself\n",
    "#test is used so we can just test the model without seeing whats going on \n",
    "train_size = int(0.8 * len(dataset)) #training data is 80% of the dataset\n",
    "val_size = len(dataset) - train_size #validating data is 20% of the dataset\n",
    "\n",
    "#randomly splits the data\n",
    "train_dataset, val_dataset = random_split(dataset, [train_size, val_size])"
   ]
  },
  {
   "cell_type": "code",
   "execution_count": null,
   "id": "3",
   "metadata": {},
   "outputs": [],
   "source": [
    "from torch.utils.data import DataLoader\n",
    "\n",
    "batch_size = 32\n",
    "\n",
    "train_loader = DataLoader(train_dataset, batch_size=batch_size, shuffle=True)\n",
    "val_loader = DataLoader(val_dataset, batch_size=batch_size)"
   ]
  },
  {
   "cell_type": "code",
   "execution_count": null,
   "id": "4",
   "metadata": {},
   "outputs": [],
   "source": [
    "import torch.nn as nn\n",
    "import torch.nn.functional as func\n",
    "\n",
    "class NeuralNet(nn.Module):\n",
    "    def __init__ (self):\n",
    "        super().__init__()\n",
    "        self.conv1 = nn.Conv2d(3, 12, 5) #kernel that scans through the image and creates 12 feature maps\n",
    "        self.pool = nn.MaxPool2d(2, 2) #creates a 2x2 area that extracts 4 pixels of information and turns it into 1\n",
    "        self.conv2 = nn.Conv2d(12, 24, 5)\n",
    "        self.fc1 = nn.Linear(24 * 5 * 5, 128)\n",
    "        self.fc2 = nn.Linear(128, 2)\n",
    "\n",
    "    def forward(self, x):\n",
    "        x = self.pool(func.relu(self.conv1(x)))\n",
    "        x = self.pool(func.relu(self.conv2(x)))\n",
    "        x = torch.flatten(x,1)\n",
    "        x = func.relu(self.fc1(x))\n",
    "        x = self.fc2(x)\n",
    "        return x\n"
   ]
  }
 ],
 "metadata": {
  "language_info": {
   "name": "python"
  }
 },
 "nbformat": 4,
 "nbformat_minor": 5
}
