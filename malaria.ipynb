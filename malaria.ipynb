{
 "cells": [
  {
   "cell_type": "code",
<<<<<<< HEAD:malar.ipynb
   "execution_count": null,
=======
   "execution_count": 1,
   "id": "c0b80da9",
   "metadata": {},
   "outputs": [
    {
     "name": "stdout",
     "output_type": "stream",
     "text": [
      "Collecting torch\n",
      "  Using cached torch-2.7.1-cp311-cp311-win_amd64.whl (216.1 MB)\n",
      "Collecting torchvision\n",
      "  Using cached torchvision-0.22.1-cp311-cp311-win_amd64.whl (1.7 MB)\n",
      "Requirement already satisfied: matplotlib in c:\\users\\rivan\\appdata\\local\\programs\\python\\python311\\lib\\site-packages (3.8.1)\n",
      "Collecting pandas\n",
      "  Using cached pandas-2.3.1-cp311-cp311-win_amd64.whl (11.3 MB)\n",
      "Collecting filelock (from torch)\n",
      "  Using cached filelock-3.18.0-py3-none-any.whl (16 kB)\n",
      "Requirement already satisfied: typing-extensions>=4.10.0 in c:\\users\\rivan\\appdata\\local\\programs\\python\\python311\\lib\\site-packages (from torch) (4.14.1)\n",
      "Requirement already satisfied: sympy>=1.13.3 in c:\\users\\rivan\\appdata\\local\\programs\\python\\python311\\lib\\site-packages (from torch) (1.14.0)\n",
      "Collecting networkx (from torch)\n",
      "  Using cached networkx-3.5-py3-none-any.whl (2.0 MB)\n",
      "Collecting jinja2 (from torch)\n",
      "  Using cached jinja2-3.1.6-py3-none-any.whl (134 kB)\n",
      "Collecting fsspec (from torch)\n",
      "  Using cached fsspec-2025.7.0-py3-none-any.whl (199 kB)\n",
      "Requirement already satisfied: numpy in c:\\users\\rivan\\appdata\\local\\programs\\python\\python311\\lib\\site-packages (from torchvision) (1.26.2)\n",
      "Requirement already satisfied: pillow!=8.3.*,>=5.3.0 in c:\\users\\rivan\\appdata\\local\\programs\\python\\python311\\lib\\site-packages (from torchvision) (10.1.0)\n",
      "Requirement already satisfied: contourpy>=1.0.1 in c:\\users\\rivan\\appdata\\local\\programs\\python\\python311\\lib\\site-packages (from matplotlib) (1.2.0)\n",
      "Requirement already satisfied: cycler>=0.10 in c:\\users\\rivan\\appdata\\local\\programs\\python\\python311\\lib\\site-packages (from matplotlib) (0.12.1)\n",
      "Requirement already satisfied: fonttools>=4.22.0 in c:\\users\\rivan\\appdata\\local\\programs\\python\\python311\\lib\\site-packages (from matplotlib) (4.44.0)\n",
      "Requirement already satisfied: kiwisolver>=1.3.1 in c:\\users\\rivan\\appdata\\local\\programs\\python\\python311\\lib\\site-packages (from matplotlib) (1.4.5)\n",
      "Requirement already satisfied: packaging>=20.0 in c:\\users\\rivan\\appdata\\roaming\\python\\python311\\site-packages (from matplotlib) (23.1)\n",
      "Requirement already satisfied: pyparsing>=2.3.1 in c:\\users\\rivan\\appdata\\local\\programs\\python\\python311\\lib\\site-packages (from matplotlib) (3.1.1)\n",
      "Requirement already satisfied: python-dateutil>=2.7 in c:\\users\\rivan\\appdata\\roaming\\python\\python311\\site-packages (from matplotlib) (2.8.2)\n",
      "Requirement already satisfied: pytz>=2020.1 in c:\\users\\rivan\\appdata\\local\\programs\\python\\python311\\lib\\site-packages (from pandas) (2025.2)\n",
      "Requirement already satisfied: tzdata>=2022.7 in c:\\users\\rivan\\appdata\\local\\programs\\python\\python311\\lib\\site-packages (from pandas) (2025.2)\n",
      "Requirement already satisfied: six>=1.5 in c:\\users\\rivan\\appdata\\roaming\\python\\python311\\site-packages (from python-dateutil>=2.7->matplotlib) (1.16.0)\n",
      "Requirement already satisfied: mpmath<1.4,>=1.1.0 in c:\\users\\rivan\\appdata\\local\\programs\\python\\python311\\lib\\site-packages (from sympy>=1.13.3->torch) (1.3.0)\n",
      "Collecting MarkupSafe>=2.0 (from jinja2->torch)\n",
      "  Using cached MarkupSafe-3.0.2-cp311-cp311-win_amd64.whl (15 kB)\n",
      "Installing collected packages: networkx, MarkupSafe, fsspec, filelock, pandas, jinja2, torch, torchvision\n",
      "Successfully installed MarkupSafe-3.0.2 filelock-3.18.0 fsspec-2025.7.0 jinja2-3.1.6 networkx-3.5 pandas-2.3.1 torch-2.7.1 torchvision-0.22.1\n",
      "Note: you may need to restart the kernel to use updated packages.\n"
     ]
    },
    {
     "name": "stderr",
     "output_type": "stream",
     "text": [
      "\n",
      "[notice] A new release of pip is available: 23.1.2 -> 25.1.1\n",
      "[notice] To update, run: python.exe -m pip install --upgrade pip\n"
     ]
    }
   ],
   "source": [
    "%pip install torch torchvision matplotlib pandas"
   ]
  },
  {
   "cell_type": "code",
   "execution_count": 18,
>>>>>>> 12d38ecf42ee0ac449684de315fa5dfdf9020cb9:malaria.ipynb
   "id": "414c751a",
   "metadata": {},
   "outputs": [
    {
     "name": "stdout",
     "output_type": "stream",
     "text": [
      "13780\n",
      "27558\n",
      "True\n"
     ]
    }
   ],
   "source": [
    "import numpy as np \n",
    "from pathlib import Path\n",
    "#the line below accesses the file path of the images. Since the main.py file and the archive folder is under the malaria folder, \n",
    "#i dont have to write malaria as a part of the file pat\n",
    "path = Path(\"archive/cell_images\") \n",
    "#path.glob gets all the files and folders matching the identifier specified in the argument. it works for with file names,\n",
    "#and extensions. '*/*.png' includes all subfolders and to not include subfolders its '*.png'\n",
    "data = list(path.glob('*/*.png'))\n",
    "uninfected = list(path.glob(\"Uninfected/*\"))\n",
    "print(len(uninfected))\n",
    "print(len(data))\n",
    "print(path.exists())"
   ]
  },
  {
   "cell_type": "code",
   "execution_count": null,
   "id": "a522f510",
   "metadata": {},
   "outputs": [
    {
     "data": {
      "image/jpeg": "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",
      "image/png": "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",
      "text/plain": [
       "<PIL.PngImagePlugin.PngImageFile image mode=RGB size=145x136>"
      ]
     },
     "execution_count": 12,
     "metadata": {},
     "output_type": "execute_result"
    }
   ],
   "source": [
    "#just wanted to open the images\n",
    "from PIL import Image\n",
    "import PIL\n",
    "PIL.Image.open(uninfected[1])"
   ]
  },
  {
   "cell_type": "code",
   "execution_count": null,
   "id": "85d7fda2",
   "metadata": {},
   "outputs": [],
   "source": [
    "#resizing images to standardize the data because it leads to more consistentcy from the model\n",
    "import torch\n",
    "from torchvision import datasets, transforms\n",
    "from torch.utils.data import DataLoader, random_split\n",
    "#defines transformer and resizes images \n",
    "transform = transforms.Compose([\n",
    "    transforms.Resize((128, 128)),\n",
    "    transforms.ToTensor(),\n",
    "])\n",
    "#loads dataset\n",
    "dataset = datasets.ImageFolder(root='archive/cell_images', transform=transform)\n",
    "\n",
    "#split the data into training, validating, and test. validating is used so we can see how the model looks while its training on it itself\n",
    "#test is used so we can just test the model without seeing whats going on \n",
    "train_size = int(0.8 * len(dataset)) #training data is 80% of the dataset\n",
    "val_size = len(dataset) - train_size #validating data is 20% of the dataset\n",
    "\n",
    "#randomly splits the data\n",
    "train_dataset, val_dataset = random_split(dataset, [train_size, val_size])"
   ]
  },
  {
   "cell_type": "code",
   "execution_count": null,
   "id": "ccb8535f",
   "metadata": {},
   "outputs": [],
   "source": [
    "from torch.utils.data import DataLoader\n",
    "\n",
    "batch_size = 32\n",
    "\n",
    "train_loader = DataLoader(train_dataset, batch_size=batch_size, shuffle=True)\n",
    "val_loader = DataLoader(val_dataset, batch_size=batch_size)"
   ]
  },
  {
   "cell_type": "code",
   "execution_count": null,
   "id": "d7896987",
   "metadata": {},
   "outputs": [],
   "source": [
    "import torch.nn as nn\n",
    "import torch.nn.functional as func\n",
    "\n",
    "class NeuralNet(nn.Module):\n",
    "    def __init__ (self):\n",
    "        super().__init__()\n",
    "        self.conv1 = nn.Conv2d(3, 12, 5) #kernel that scans through the image and creates 12 feature maps\n",
    "        self.pool = nn.MaxPool2d(2, 2) #creates a 2x2 area that extracts 4 pixels of information and turns it into 1\n",
    "        self.conv2 = nn.Conv2d(12, 24, 5)\n",
    "        self.fc1 = nn.Linear(24 * 5 * 5, 128)\n",
    "        self.fc2 = nn.Linear(128, 2)\n",
    "\n",
    "    def forward(self, x):\n",
    "        x = self.pool(func.relu(self.conv1(x)))\n",
    "        x = self.pool(func.relu(self.conv2(x)))\n",
    "        x = torch.flatten(x,1)\n",
    "        x = func.relu(self.fc1(x))\n",
    "        x = self.fc2(x)\n",
    "        return x\n"
   ]
  }
 ],
 "metadata": {
  "kernelspec": {
   "display_name": "Python 3",
   "language": "python",
   "name": "python3"
  },
  "language_info": {
   "codemirror_mode": {
    "name": "ipython",
    "version": 3
   },
   "file_extension": ".py",
   "mimetype": "text/x-python",
   "name": "python",
   "nbconvert_exporter": "python",
   "pygments_lexer": "ipython3",
   "version": "3.11.4"
  }
 },
 "nbformat": 4,
 "nbformat_minor": 5
}
